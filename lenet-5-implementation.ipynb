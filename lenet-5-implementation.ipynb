{
 "cells": [
  {
   "cell_type": "markdown",
   "id": "60404041",
   "metadata": {
    "papermill": {
     "duration": 0.006853,
     "end_time": "2022-06-25T17:20:19.979599",
     "exception": false,
     "start_time": "2022-06-25T17:20:19.972746",
     "status": "completed"
    },
    "tags": []
   },
   "source": [
    "---"
   ]
  },
  {
   "cell_type": "markdown",
   "id": "754e263e",
   "metadata": {
    "papermill": {
     "duration": 0.005382,
     "end_time": "2022-06-25T17:20:19.990725",
     "exception": false,
     "start_time": "2022-06-25T17:20:19.985343",
     "status": "completed"
    },
    "tags": []
   },
   "source": [
    "# <center>★ AI / ML Research Implementation - LeNet 5 ★"
   ]
  },
  {
   "cell_type": "markdown",
   "id": "4a57bda1",
   "metadata": {
    "papermill": {
     "duration": 0.005217,
     "end_time": "2022-06-25T17:20:20.001510",
     "exception": false,
     "start_time": "2022-06-25T17:20:19.996293",
     "status": "completed"
    },
    "tags": []
   },
   "source": [
    "<center><img src=\"https://raw.githubusercontent.com/Masterx-AI/LeNet-5-Implementation/main/alexnet.png\" style=\"width: 800px;\"/>"
   ]
  },
  {
   "cell_type": "markdown",
   "id": "1ccd14be",
   "metadata": {
    "papermill": {
     "duration": 0.005432,
     "end_time": "2022-06-25T17:20:20.012642",
     "exception": false,
     "start_time": "2022-06-25T17:20:20.007210",
     "status": "completed"
    },
    "tags": []
   },
   "source": [
    "---"
   ]
  },
  {
   "cell_type": "markdown",
   "id": "e589e9a0",
   "metadata": {
    "papermill": {
     "duration": 0.005379,
     "end_time": "2022-06-25T17:20:20.023694",
     "exception": false,
     "start_time": "2022-06-25T17:20:20.018315",
     "status": "completed"
    },
    "tags": []
   },
   "source": [
    "### Objective:\n",
    "- Understand the Model Architecture\n",
    "- Reconstruct the Model Architecture from scratch\n",
    "- Perform a dry run test to assess it's implemenation on real-time data."
   ]
  },
  {
   "cell_type": "markdown",
   "id": "81b0fa90",
   "metadata": {
    "papermill": {
     "duration": 0.005349,
     "end_time": "2022-06-25T17:20:20.034706",
     "exception": false,
     "start_time": "2022-06-25T17:20:20.029357",
     "status": "completed"
    },
    "tags": []
   },
   "source": [
    "---"
   ]
  },
  {
   "cell_type": "markdown",
   "id": "f387a531",
   "metadata": {
    "papermill": {
     "duration": 0.005166,
     "end_time": "2022-06-25T17:20:20.045389",
     "exception": false,
     "start_time": "2022-06-25T17:20:20.040223",
     "status": "completed"
    },
    "tags": []
   },
   "source": [
    "### LeNet-5 Model Description:\n",
    "\n",
    "LeNet-5 CNN architecture is made up of 7 layers. The layer composition consists of \n",
    "* 3 convolutional layers\n",
    "* 2 subsampling layers\n",
    "* 2 fully connected layers.\n",
    "\n",
    "The first layer is the input layer — this is generally not considered a layer of the network as nothing is learnt in this layer. The input layer is built to take in 32x32, and these are the dimensions of images that are passed into the next layer. Those who are familiar with the MNIST dataset will be aware that the MNIST dataset images have the dimensions 28x28. To get the MNIST images dimension to the meet the requirements of the input layer, the 28x28 images are padded.\n",
    "\n",
    "The grayscale images used in the research paper had their pixel values normalized from 0 to 255, to values between -0.1 and 1.175. The reason for normalization is to ensure that the batch of images have a mean of 0 and a standard deviation of 1, the benefits of this is seen in the reduction in the amount of training time. In the image classification with LeNet-5 example below, we’ll be normalizing the pixel values of the images to take on values between 0 to 1.\n",
    "\n",
    "The LeNet-5 architecture utilizes two significant types of layer construct: convolutional layers and subsampling layers.\n",
    "\n",
    "Convolutional layers\n",
    "Sub-sampling layers\n",
    "Within the research paper and the image below, convolutional layers are identified with the ‘Cx’, and subsampling layers are identified with ‘Sx’, where ‘x’ is the sequential position of the layer within the architecture. ‘Fx’ is used to identify fully connected layers. This method of layer identification can be seen in the image above.\n",
    "\n",
    "The official first layer convolutional layer C1 produces as output 6 feature maps, and has a kernel size of 5x5. The kernel/filter is the name given to the window that contains the weight values that are utilized during the convolution of the weight values with the input values. 5x5 is also indicative of the local receptive field size each unit or neuron within a convolutional layer. The dimensions of the six feature maps the first convolution layer produces are 28x28.\n",
    "\n",
    "A subsampling layer ‘S2’ follows the ‘C1’ layer’. The ‘S2’ layer halves the dimension of the feature maps it receives from the previous layer; this is known commonly as downsampling.\n",
    "\n",
    "The ‘S2’ layer also produces 6 feature maps, each one corresponding to the feature maps passed as input from the previous layer. This link contains more information on subsampling layers.\n",
    "\n",
    "More information on the rest of the LeNet-5 layers is covered in the implementation section.\n"
   ]
  },
  {
   "cell_type": "markdown",
   "id": "06ff1d56",
   "metadata": {
    "papermill": {
     "duration": 0.005189,
     "end_time": "2022-06-25T17:20:20.056048",
     "exception": false,
     "start_time": "2022-06-25T17:20:20.050859",
     "status": "completed"
    },
    "tags": []
   },
   "source": [
    "---"
   ]
  },
  {
   "cell_type": "markdown",
   "id": "536b8665",
   "metadata": {
    "papermill": {
     "duration": 0.005181,
     "end_time": "2022-06-25T17:20:20.066783",
     "exception": false,
     "start_time": "2022-06-25T17:20:20.061602",
     "status": "completed"
    },
    "tags": []
   },
   "source": [
    "## <center> Stractegic Plan of Action:\n",
    "    \n",
    "**We aim to solve the problem statement by creating a plan of action, Here are some of the necessary steps:**\n",
    "1. Dataset Prepration\n",
    "2. Model Development\n",
    "3. Model Testing\n",
    "4. Project Outcomes & Conclusion"
   ]
  },
  {
   "cell_type": "markdown",
   "id": "144d6206",
   "metadata": {
    "papermill": {
     "duration": 0.005153,
     "end_time": "2022-06-25T17:20:20.077362",
     "exception": false,
     "start_time": "2022-06-25T17:20:20.072209",
     "status": "completed"
    },
    "tags": []
   },
   "source": [
    "---"
   ]
  },
  {
   "cell_type": "markdown",
   "id": "8aa837f2",
   "metadata": {
    "papermill": {
     "duration": 0.0052,
     "end_time": "2022-06-25T17:20:20.088035",
     "exception": false,
     "start_time": "2022-06-25T17:20:20.082835",
     "status": "completed"
    },
    "tags": []
   },
   "source": [
    "## <center> 1. Dataset Prepration"
   ]
  },
  {
   "cell_type": "code",
   "execution_count": 1,
   "id": "3e581e21",
   "metadata": {
    "execution": {
     "iopub.execute_input": "2022-06-25T17:20:20.101339Z",
     "iopub.status.busy": "2022-06-25T17:20:20.100618Z",
     "iopub.status.idle": "2022-06-25T17:20:30.976111Z",
     "shell.execute_reply": "2022-06-25T17:20:30.973846Z"
    },
    "papermill": {
     "duration": 10.885245,
     "end_time": "2022-06-25T17:20:30.978701",
     "exception": false,
     "start_time": "2022-06-25T17:20:20.093456",
     "status": "completed"
    },
    "tags": []
   },
   "outputs": [
    {
     "name": "stdout",
     "output_type": "stream",
     "text": [
      "Downloading data from https://storage.googleapis.com/tensorflow/tf-keras-datasets/mnist.npz\n",
      "11493376/11490434 [==============================] - 0s 0us/step\n",
      "11501568/11490434 [==============================] - 0s 0us/step\n"
     ]
    },
    {
     "name": "stderr",
     "output_type": "stream",
     "text": [
      "2022-06-25 17:20:30.540496: I tensorflow/core/common_runtime/process_util.cc:146] Creating new thread pool with default inter op setting: 2. Tune using inter_op_parallelism_threads for best performance.\n"
     ]
    }
   ],
   "source": [
    "#Importing the basic librarires\n",
    "\n",
    "import numpy as np\n",
    "import tensorflow as tf\n",
    "from tensorflow import keras\n",
    "\n",
    "# Preparing the dataset\n",
    "(train_x, train_y), (test_x, test_y) = keras.datasets.mnist.load_data()\n",
    "\n",
    "# Preparing the dataset\n",
    "train_x = train_x / 255.0\n",
    "test_x = test_x / 255.0\n",
    "\n",
    "train_x = tf.expand_dims(train_x, 3)\n",
    "test_x = tf.expand_dims(test_x, 3)\n",
    "\n",
    "val_x = train_x[:5000]\n",
    "val_y = train_y[:5000]"
   ]
  },
  {
   "cell_type": "markdown",
   "id": "dc2424f6",
   "metadata": {
    "papermill": {
     "duration": 0.005659,
     "end_time": "2022-06-25T17:20:30.990399",
     "exception": false,
     "start_time": "2022-06-25T17:20:30.984740",
     "status": "completed"
    },
    "tags": []
   },
   "source": [
    "---"
   ]
  },
  {
   "cell_type": "markdown",
   "id": "bf28ac10",
   "metadata": {
    "papermill": {
     "duration": 0.005629,
     "end_time": "2022-06-25T17:20:31.001941",
     "exception": false,
     "start_time": "2022-06-25T17:20:30.996312",
     "status": "completed"
    },
    "tags": []
   },
   "source": [
    "## <center>2. Model Development"
   ]
  },
  {
   "cell_type": "code",
   "execution_count": 2,
   "id": "1bcacc0d",
   "metadata": {
    "execution": {
     "iopub.execute_input": "2022-06-25T17:20:31.016352Z",
     "iopub.status.busy": "2022-06-25T17:20:31.015747Z",
     "iopub.status.idle": "2022-06-25T17:20:31.311326Z",
     "shell.execute_reply": "2022-06-25T17:20:31.310591Z"
    },
    "papermill": {
     "duration": 0.305704,
     "end_time": "2022-06-25T17:20:31.313713",
     "exception": false,
     "start_time": "2022-06-25T17:20:31.008009",
     "status": "completed"
    },
    "tags": []
   },
   "outputs": [
    {
     "name": "stdout",
     "output_type": "stream",
     "text": [
      "Model: \"sequential\"\n",
      "_________________________________________________________________\n",
      "Layer (type)                 Output Shape              Param #   \n",
      "=================================================================\n",
      "conv2d (Conv2D)              (None, 28, 28, 6)         156       \n",
      "_________________________________________________________________\n",
      "average_pooling2d (AveragePo (None, 14, 14, 6)         0         \n",
      "_________________________________________________________________\n",
      "conv2d_1 (Conv2D)            (None, 10, 10, 16)        2416      \n",
      "_________________________________________________________________\n",
      "average_pooling2d_1 (Average (None, 5, 5, 16)          0         \n",
      "_________________________________________________________________\n",
      "conv2d_2 (Conv2D)            (None, 1, 1, 120)         48120     \n",
      "_________________________________________________________________\n",
      "flatten (Flatten)            (None, 120)               0         \n",
      "_________________________________________________________________\n",
      "dense (Dense)                (None, 84)                10164     \n",
      "_________________________________________________________________\n",
      "dense_1 (Dense)              (None, 10)                850       \n",
      "=================================================================\n",
      "Total params: 61,706\n",
      "Trainable params: 61,706\n",
      "Non-trainable params: 0\n",
      "_________________________________________________________________\n"
     ]
    }
   ],
   "source": [
    "# Building the LeNet Model Architecture\n",
    "\n",
    "model = keras.models.Sequential([\n",
    "    keras.layers.Conv2D(6, kernel_size=5, strides=1,  activation='tanh', input_shape=train_x[0].shape, padding='same'), #C1\n",
    "    keras.layers.AveragePooling2D(), #S2\n",
    "    keras.layers.Conv2D(16, kernel_size=5, strides=1, activation='tanh', padding='valid'), #C3\n",
    "    keras.layers.AveragePooling2D(), #S4\n",
    "    keras.layers.Conv2D(120, kernel_size=5, strides=1, activation='tanh', padding='valid'), #C5\n",
    "    keras.layers.Flatten(), #Flatten    \n",
    "    keras.layers.Dense(84, activation='tanh'), #F6\n",
    "    keras.layers.Dense(10, activation='softmax') #Output layer\n",
    "])\n",
    "\n",
    "# Compiling the Model\n",
    "model.compile(optimizer='adam', loss=keras.losses.sparse_categorical_crossentropy, metrics=['accuracy'])\n",
    "\n",
    "# Checking Model Summary\n",
    "model.summary()"
   ]
  },
  {
   "cell_type": "code",
   "execution_count": 3,
   "id": "128713fa",
   "metadata": {
    "execution": {
     "iopub.execute_input": "2022-06-25T17:20:31.328001Z",
     "iopub.status.busy": "2022-06-25T17:20:31.326949Z",
     "iopub.status.idle": "2022-06-25T17:20:32.469085Z",
     "shell.execute_reply": "2022-06-25T17:20:32.467769Z"
    },
    "papermill": {
     "duration": 1.152752,
     "end_time": "2022-06-25T17:20:32.472514",
     "exception": false,
     "start_time": "2022-06-25T17:20:31.319762",
     "status": "completed"
    },
    "tags": []
   },
   "outputs": [
    {
     "data": {
      "image/png": "[encoded data removed]",
      "text/plain": [
       "<IPython.core.display.Image object>"
      ]
     },
     "execution_count": 3,
     "metadata": {},
     "output_type": "execute_result"
    }
   ],
   "source": [
    "# Plotting the model architecture\n",
    "\n",
    "keras.utils.plot_model(model, to_file=\"my_model.png\", show_shapes=True)"
   ]
  },
  {
   "cell_type": "markdown",
   "id": "5bea7f1b",
   "metadata": {
    "papermill": {
     "duration": 0.007551,
     "end_time": "2022-06-25T17:20:32.488048",
     "exception": false,
     "start_time": "2022-06-25T17:20:32.480497",
     "status": "completed"
    },
    "tags": []
   },
   "source": [
    "---"
   ]
  },
  {
   "cell_type": "markdown",
   "id": "2f9e3646",
   "metadata": {
    "papermill": {
     "duration": 0.007424,
     "end_time": "2022-06-25T17:20:32.503103",
     "exception": false,
     "start_time": "2022-06-25T17:20:32.495679",
     "status": "completed"
    },
    "tags": []
   },
   "source": [
    "## <center>3. Model Testing"
   ]
  },
  {
   "cell_type": "code",
   "execution_count": 4,
   "id": "119619f4",
   "metadata": {
    "execution": {
     "iopub.execute_input": "2022-06-25T17:20:32.520628Z",
     "iopub.status.busy": "2022-06-25T17:20:32.519892Z",
     "iopub.status.idle": "2022-06-25T17:21:55.157728Z",
     "shell.execute_reply": "2022-06-25T17:21:55.156557Z"
    },
    "papermill": {
     "duration": 82.649915,
     "end_time": "2022-06-25T17:21:55.160682",
     "exception": false,
     "start_time": "2022-06-25T17:20:32.510767",
     "status": "completed"
    },
    "tags": []
   },
   "outputs": [
    {
     "name": "stderr",
     "output_type": "stream",
     "text": [
      "2022-06-25 17:20:32.600231: I tensorflow/compiler/mlir/mlir_graph_optimization_pass.cc:185] None of the MLIR Optimization Passes are enabled (registered 2)\n"
     ]
    },
    {
     "name": "stdout",
     "output_type": "stream",
     "text": [
      "Epoch 1/5\n",
      "1875/1875 [==============================] - 14s 7ms/step - loss: 0.2263 - accuracy: 0.9316 - val_loss: 0.0780 - val_accuracy: 0.9776\n",
      "Epoch 2/5\n",
      "1875/1875 [==============================] - 14s 8ms/step - loss: 0.0833 - accuracy: 0.9744 - val_loss: 0.0508 - val_accuracy: 0.9850\n",
      "Epoch 3/5\n",
      "1875/1875 [==============================] - 13s 7ms/step - loss: 0.0572 - accuracy: 0.9827 - val_loss: 0.0393 - val_accuracy: 0.9896\n",
      "Epoch 4/5\n",
      "1875/1875 [==============================] - 13s 7ms/step - loss: 0.0455 - accuracy: 0.9859 - val_loss: 0.0277 - val_accuracy: 0.9932\n",
      "Epoch 5/5\n",
      "1875/1875 [==============================] - 14s 7ms/step - loss: 0.0369 - accuracy: 0.9886 - val_loss: 0.0260 - val_accuracy: 0.9930\n"
     ]
    }
   ],
   "source": [
    "# Moddel Training\n",
    "\n",
    "hisroty = model.fit(train_x, train_y, epochs=5, validation_data=(val_x, val_y))"
   ]
  },
  {
   "cell_type": "code",
   "execution_count": 5,
   "id": "4d0c6d91",
   "metadata": {
    "execution": {
     "iopub.execute_input": "2022-06-25T17:21:55.351416Z",
     "iopub.status.busy": "2022-06-25T17:21:55.350767Z",
     "iopub.status.idle": "2022-06-25T17:21:56.339437Z",
     "shell.execute_reply": "2022-06-25T17:21:56.337620Z"
    },
    "papermill": {
     "duration": 1.086994,
     "end_time": "2022-06-25T17:21:56.341917",
     "exception": false,
     "start_time": "2022-06-25T17:21:55.254923",
     "status": "completed"
    },
    "tags": []
   },
   "outputs": [
    {
     "name": "stdout",
     "output_type": "stream",
     "text": [
      "313/313 [==============================] - 1s 3ms/step - loss: 0.0449 - accuracy: 0.9858\n"
     ]
    },
    {
     "data": {
      "text/plain": [
       "[0.044896941632032394, 0.98580002784729]"
      ]
     },
     "execution_count": 5,
     "metadata": {},
     "output_type": "execute_result"
    }
   ],
   "source": [
    "# Model Evaluation\n",
    "\n",
    "model.evaluate(test_x, test_y)"
   ]
  },
  {
   "cell_type": "markdown",
   "id": "d63dc18d",
   "metadata": {
    "papermill": {
     "duration": 0.095026,
     "end_time": "2022-06-25T17:21:56.532675",
     "exception": false,
     "start_time": "2022-06-25T17:21:56.437649",
     "status": "completed"
    },
    "tags": []
   },
   "source": [
    "---"
   ]
  },
  {
   "cell_type": "markdown",
   "id": "2ac9af4f",
   "metadata": {
    "papermill": {
     "duration": 0.093903,
     "end_time": "2022-06-25T17:21:56.720923",
     "exception": false,
     "start_time": "2022-06-25T17:21:56.627020",
     "status": "completed"
    },
    "tags": []
   },
   "source": [
    "# <center>4. Project Outcomes & Conclusion"
   ]
  },
  {
   "cell_type": "markdown",
   "id": "ea3ececf",
   "metadata": {
    "papermill": {
     "duration": 0.095909,
     "end_time": "2022-06-25T17:21:56.911714",
     "exception": false,
     "start_time": "2022-06-25T17:21:56.815805",
     "status": "completed"
    },
    "tags": []
   },
   "source": [
    "### Here are some of the key outcomes of the project:\n",
    "\n",
    "- The Model Architecture was reconstructed from scratch with no errors.\n",
    "- We were able to plot the model graph & observe input & output shapes of all the layers. \n",
    "- Also we could identify that the total trainable paramters for the LeNet-5 model were 61.7k.\n",
    "- To demonstrate it's functionality, we have tested the model for just 5 epochs (due to hardware limitations). \n",
    "- Despite this, the model has performed surpisingly well achieving an accuracy of 98% within few iterations."
   ]
  },
  {
   "cell_type": "code",
   "execution_count": 6,
   "id": "ac92fd70",
   "metadata": {
    "execution": {
     "iopub.execute_input": "2022-06-25T17:21:57.102239Z",
     "iopub.status.busy": "2022-06-25T17:21:57.101866Z",
     "iopub.status.idle": "2022-06-25T17:21:57.106716Z",
     "shell.execute_reply": "2022-06-25T17:21:57.105572Z"
    },
    "papermill": {
     "duration": 0.102683,
     "end_time": "2022-06-25T17:21:57.109018",
     "exception": false,
     "start_time": "2022-06-25T17:21:57.006335",
     "status": "completed"
    },
    "tags": []
   },
   "outputs": [],
   "source": [
    "#<<<--------------------------------------THE END---------------------------------------->>>"
   ]
  }
 ],
 "metadata": {
  "kernelspec": {
   "display_name": "Python 3",
   "language": "python",
   "name": "python3"
  },
  "language_info": {
   "codemirror_mode": {
    "name": "ipython",
    "version": 3
   },
   "file_extension": ".py",
   "mimetype": "text/x-python",
   "name": "python",
   "nbconvert_exporter": "python",
   "pygments_lexer": "ipython3",
   "version": "3.7.12"
  },
  "papermill": {
   "default_parameters": {},
   "duration": 110.659103,
   "end_time": "2022-06-25T17:22:00.807066",
   "environment_variables": {},
   "exception": null,
   "input_path": "__notebook__.ipynb",
   "output_path": "__notebook__.ipynb",
   "parameters": {},
   "start_time": "2022-06-25T17:20:10.147963",
   "version": "2.3.4"
  }
 },
 "nbformat": 4,
 "nbformat_minor": 5
}
